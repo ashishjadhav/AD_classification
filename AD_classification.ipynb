{
 "cells": [
  {
   "cell_type": "code",
   "execution_count": null,
   "metadata": {},
   "outputs": [],
   "source": [
    "import os\n",
    "import pandas as pd\n",
    "import opensmile \n",
    "from opensmile import Smile\n"
   ]
  },
  {
   "cell_type": "code",
   "execution_count": null,
   "metadata": {},
   "outputs": [],
   "source": [
    "root_cc = \"ADReSS-IS2020/train/Full_wave_enhanced_audio/cc\"\n",
    "root_cd = \"ADReSS-IS2020/train/Full_wave_enhanced_audio/cd\"\n",
    "\n",
    "\n",
    "def create_feature_dataframe(root):\n",
    "    \n",
    "    smile = Smile(\n",
    "        feature_set=opensmile.FeatureSet.eGeMAPSv02,\n",
    "        feature_level=opensmile.FeatureLevel.Functionals,\n",
    "    )\n",
    "\n",
    "    s = smile.process_folder(root, filetype='wav',include_root=False)\n",
    "    \n",
    "    return s"
   ]
  },
  {
   "cell_type": "code",
   "execution_count": null,
   "metadata": {},
   "outputs": [],
   "source": [
    "df_cc = create_feature_dataframe(root_cc)\n",
    "df_cd = create_feature_dataframe(root_cd)"
   ]
  },
  {
   "cell_type": "code",
   "execution_count": null,
   "metadata": {},
   "outputs": [],
   "source": [
    "df_cc.head()"
   ]
  },
  {
   "cell_type": "code",
   "execution_count": null,
   "metadata": {},
   "outputs": [],
   "source": [
    "df_cd.head()"
   ]
  },
  {
   "cell_type": "code",
   "execution_count": null,
   "metadata": {},
   "outputs": [],
   "source": [
    "# Print the shape of the df_cd dataframe\n",
    "print(\"Shape of df_cd:\", df_cd.shape)\n",
    "\n",
    "# Print the shape of the df_cc dataframe\n",
    "print(\"Shape of df_cc:\", df_cc.shape)\n"
   ]
  },
  {
   "cell_type": "code",
   "execution_count": null,
   "metadata": {},
   "outputs": [],
   "source": [
    "# Add a target label to df_cd and convert to float32\n",
    "df_cd['target'] = 1.0\n",
    "df_cd['target'] = df_cd['target'].astype('float32')\n",
    "\n",
    "# Add a target label to df_cc and convert to float32\n",
    "df_cc['target'] = 0.0\n",
    "df_cc['target'] = df_cc['target'].astype('float32')"
   ]
  },
  {
   "cell_type": "code",
   "execution_count": null,
   "metadata": {},
   "outputs": [],
   "source": [
    "df_cd.head()\n",
    "df_cd.dtypes"
   ]
  },
  {
   "cell_type": "code",
   "execution_count": null,
   "metadata": {},
   "outputs": [],
   "source": [
    "df_train = pd.concat([df_cd, df_cc], axis=0, ignore_index=True)\n",
    "df_train.head()\n",
    "df_train.shape\n"
   ]
  },
  {
   "cell_type": "code",
   "execution_count": null,
   "metadata": {},
   "outputs": [],
   "source": [
    "from sklearn.model_selection import train_test_split\n",
    "\n",
    "# Assuming 'target' is your target column and the rest are features\n",
    "X_train = df_train.drop('target', axis=1)\n",
    "y_train = df_train['target']\n",
    "\n",
    "\n"
   ]
  },
  {
   "cell_type": "code",
   "execution_count": null,
   "metadata": {},
   "outputs": [],
   "source": [
    "X_train.head()"
   ]
  },
  {
   "cell_type": "code",
   "execution_count": null,
   "metadata": {},
   "outputs": [],
   "source": [
    "root_test = \"ADReSS-IS2020/test/Full_wave_enhanced_audio\"\n",
    "df_test_without_target = create_feature_dataframe(root_test)\n"
   ]
  },
  {
   "cell_type": "code",
   "execution_count": null,
   "metadata": {},
   "outputs": [],
   "source": [
    "\n",
    "# Specify the path to your text file\n",
    "file_path = 'ADReSS-IS2020/test/meta_data_test.txt'\n",
    "\n",
    "# Read the text file into a DataFrame\n",
    "df_test_metadata = pd.read_csv(file_path, delimiter=';')\n"
   ]
  },
  {
   "cell_type": "code",
   "execution_count": null,
   "metadata": {},
   "outputs": [],
   "source": [
    "df_test_metadata.head()"
   ]
  },
  {
   "cell_type": "code",
   "execution_count": null,
   "metadata": {},
   "outputs": [],
   "source": [
    "# Assuming you have two dataframes df1 and df2\n",
    "df1_indexes = pd.DataFrame(df_test_without_target.index, columns=['df1_index'])\n",
    "df2_indexes = pd.DataFrame(df_test_metadata[\"ID   \"])\n",
    "\n",
    "# Concatenate the index dataframes\n",
    "df_indexes = pd.concat([df1_indexes, df2_indexes], axis=1)\n",
    "\n",
    "# Print the indexes\n",
    "print(df_indexes)"
   ]
  },
  {
   "cell_type": "code",
   "execution_count": null,
   "metadata": {},
   "outputs": [],
   "source": [
    "df_test_without_target.head()\n"
   ]
  },
  {
   "cell_type": "code",
   "execution_count": null,
   "metadata": {},
   "outputs": [],
   "source": [
    "# Reset the index and drop the old one\n",
    "df_test_without_target.reset_index(drop=True, inplace=True)"
   ]
  },
  {
   "cell_type": "code",
   "execution_count": null,
   "metadata": {},
   "outputs": [],
   "source": [
    "df_test_without_target.head()"
   ]
  },
  {
   "cell_type": "code",
   "execution_count": null,
   "metadata": {},
   "outputs": [],
   "source": [
    "# Now lets create X_test, y_test \n",
    "X_test = df_test_without_target\n",
    "y_test = df_test_metadata[\"Label \"]"
   ]
  },
  {
   "cell_type": "code",
   "execution_count": null,
   "metadata": {},
   "outputs": [],
   "source": [
    "from sklearn.tree import DecisionTreeClassifier\n",
    "\n",
    "# Create the Decision Tree model\n",
    "clf = DecisionTreeClassifier()\n",
    "\n",
    "# Train the model\n",
    "clf.fit(X_train, y_train)\n",
    "\n",
    "# Calculate and print the training accuracy\n",
    "accuracy1 = clf.score(X_train, y_train)\n",
    "print(\"Accuracy on training data is :\", accuracy1*100)\n",
    "\n",
    "# Calculate and print the testing accuracy\n",
    "accuracy2 = clf.score(X_test, y_test)\n",
    "print(\"Accuracy on testing data is :\", accuracy2*100)\n",
    "\n"
   ]
  },
  {
   "cell_type": "code",
   "execution_count": null,
   "metadata": {},
   "outputs": [],
   "source": [
    "from sklearn.model_selection import GridSearchCV\n",
    "\n",
    "# Define the parameter grid\n",
    "param_grid = {\n",
    "    'max_depth': [3, 5, 7, 10],\n",
    "    'min_samples_split': [2, 5, 10],\n",
    "    'min_samples_leaf': [1, 2, 5],\n",
    "    'max_features': ['auto', 'sqrt', 'log2']\n",
    "}\n",
    "\n",
    "# Create a DecisionTreeClassifier\n",
    "clf = DecisionTreeClassifier()\n",
    "\n",
    "# Create the GridSearchCV object\n",
    "grid_search = GridSearchCV(estimator=clf, param_grid=param_grid, cv=5)\n",
    "\n",
    "# Fit the GridSearchCV object to the data\n",
    "grid_search.fit(X_train, y_train)\n",
    "\n",
    "# Print the best parameters\n",
    "print(grid_search.best_params_)"
   ]
  },
  {
   "cell_type": "code",
   "execution_count": null,
   "metadata": {},
   "outputs": [],
   "source": [
    "# Train the model using the best parameters\n",
    "best_clf = DecisionTreeClassifier(**grid_search.best_params_)\n",
    "best_clf.fit(X_train, y_train)\n",
    "\n",
    "# Calculate and print the training accuracy\n",
    "train_accuracy = best_clf.score(X_train, y_train)\n",
    "print(f'Training accuracy: {train_accuracy*100:.2f}%')\n",
    "\n",
    "# Calculate and print the test accuracy\n",
    "test_accuracy = best_clf.score(X_test, y_test)\n",
    "print(f'Test accuracy: {test_accuracy*100:.2f}%')"
   ]
  },
  {
   "cell_type": "code",
   "execution_count": null,
   "metadata": {},
   "outputs": [],
   "source": [
    "from sklearn.discriminant_analysis import LinearDiscriminantAnalysis\n",
    "\n",
    "# Create the Linear Discriminant Analysis model / object/ instance of a class in python.\n",
    "lda = LinearDiscriminantAnalysis()\n",
    "\n",
    "# Train the model/ fit the training data in a model\n",
    "lda.fit(X_train, y_train)\n",
    "\n",
    "# Calculate and print the training accuracy\n",
    "train_accuracy = lda.score(X_train, y_train)\n",
    "print(f'Training accuracy: {train_accuracy*100:.2f}%')\n",
    "\n",
    "# Calculate and print the test accuracy\n",
    "test_accuracy = lda.score(X_test, y_test)\n",
    "print(f'Test accuracy: {test_accuracy*100:.2f}%')\n"
   ]
  },
  {
   "cell_type": "code",
   "execution_count": null,
   "metadata": {},
   "outputs": [],
   "source": [
    "from sklearn.neighbors import KNeighborsClassifier\n",
    "\n",
    "# Create the KNN model\n",
    "knn = KNeighborsClassifier(n_neighbors=3)\n",
    "\n",
    "# Train the model\n",
    "knn.fit(X_train, y_train)\n",
    "\n",
    "# Calculate and print the training accuracy\n",
    "train_accuracy = knn.score(X_train, y_train)\n",
    "print(f'Training accuracy: {train_accuracy*100:.2f}%')\n",
    "\n",
    "# Calculate and print the test accuracy\n",
    "test_accuracy = knn.score(X_test, y_test)\n",
    "print(f'Test accuracy: {test_accuracy*100:.2f}%')"
   ]
  },
  {
   "cell_type": "code",
   "execution_count": null,
   "metadata": {},
   "outputs": [],
   "source": [
    "from sklearn.tree import DecisionTreeClassifier\n",
    "from sklearn.discriminant_analysis import LinearDiscriminantAnalysis\n",
    "from sklearn.neighbors import KNeighborsClassifier\n",
    "from sklearn.ensemble import RandomForestClassifier\n",
    "import pandas as pd\n",
    "\n",
    "# Create a list of models\n",
    "models = [\n",
    "    ('Decision Tree', DecisionTreeClassifier()),\n",
    "    ('Linear Discriminant Analysis', LinearDiscriminantAnalysis()),\n",
    "    ('KNN', KNeighborsClassifier()),\n",
    "    ('Random Forest', RandomForestClassifier())\n",
    "]\n",
    "\n",
    "# Create an empty dataframe to store the accuracy values\n",
    "accuracy_df = pd.DataFrame(columns=['Model', 'Training Accuracy', 'Testing Accuracy'])\n",
    "\n",
    "# Train and evaluate each model\n",
    "for model_name, model in models:\n",
    "    # Train the model\n",
    "    model.fit(X_train, y_train)\n",
    "    \n",
    "    # Calculate the training accuracy\n",
    "    train_accuracy = model.score(X_train, y_train)\n",
    "    print(f'Training accuracy for {model_name}: {train_accuracy*100:.2f}%')\n",
    "    \n",
    "    # Calculate the testing accuracy\n",
    "    test_accuracy = model.score(X_test, y_test)\n",
    "    print(f'Testing accuracy for {model_name}: {test_accuracy*100:.2f}%')\n",
    "    \n",
    "   \n"
   ]
  }
 ],
 "metadata": {
  "kernelspec": {
   "display_name": "dementia",
   "language": "python",
   "name": "python3"
  },
  "language_info": {
   "codemirror_mode": {
    "name": "ipython",
    "version": 3
   },
   "file_extension": ".py",
   "mimetype": "text/x-python",
   "name": "python",
   "nbconvert_exporter": "python",
   "pygments_lexer": "ipython3",
   "version": "3.11.5"
  }
 },
 "nbformat": 4,
 "nbformat_minor": 2
}
